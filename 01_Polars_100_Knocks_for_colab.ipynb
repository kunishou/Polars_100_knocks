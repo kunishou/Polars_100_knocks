{
  "cells": [
    {
      "cell_type": "markdown",
      "metadata": {
        "colab_type": "text",
        "id": "view-in-github"
      },
      "source": [
        "<a href=\"https://colab.research.google.com/github/kunishou/Polars_100_knocks/blob/main/01_Polars_100_Knocks_for_colab.ipynb\" target=\"_parent\"><img src=\"https://colab.research.google.com/assets/colab-badge.svg\" alt=\"Open In Colab\"/></a>"
      ]
    },
    {
      "cell_type": "markdown",
      "metadata": {
        "id": "h3RtIEAhfZRg"
      },
      "source": [
        "# 初学者向けPolars100本ノックver1.0.1\n",
        "##### Shift + Enter で各セルのコードが実行されます\n",
        "・print(ans[ 問題番号 ]) で回答コード例を表示  \n",
        "\n",
        "・[Polars公式リファレンス](https://pola-rs.github.io/polars/py-polars/html/reference/index.html)  \n",
        "・[Polars公式ガイド](https://pola-rs.github.io/polars-book/user-guide/)  \n",
        "・[Github](https://github.com/pola-rs/polars)  \n",
        "\n",
        "・\"Data for Titanic passengers\" from [VANDERBILT UNIVERSITY](https://biostat.app.vumc.org/wiki/Main/DataSets)  \n",
        "  \n",
        "**本コンテンツ作成時のPolarsのバージョンは0.15.16**\n",
        "  \n",
        "作成日:2023年2月11日  \n",
        "最終更新日:2023年2月24日  \n",
        "再配布・改編不可  \n",
        "作成者：[kunishou](https://qiita.com/kunishou)\n",
        "<br>  \n",
        "**以下の手順で100本ノックに取り組むことでより習熟しやすくなります。**\n",
        "\n",
        "① 以下のPolarsに関する記事を一読する  \n",
        "[pandasから移行する人向け polars使用ガイド](https://qiita.com/nkay/items/9cfb2776156dc7e054c8)  \n",
        "② Polars100本ノックの解答表示版に軽く目を通す  \n",
        "③ Polars100本ノックに取り組む"
      ]
    },
    {
      "cell_type": "code",
      "execution_count": null,
      "metadata": {
        "id": "1XkPS4sPfZRw"
      },
      "outputs": [],
      "source": [
        "# Shift + Enterで題材データ、回答コードを読み込んで下さい\n",
        "\n",
        "!git clone https://github.com/kunishou/Polars_100_knocks.git\n",
        "%cd Polars_100_knocks//notebook/\n",
        "\n",
        "!pip install polars==0.15.16\n",
        "!pip show pyarrow==10.0.1\n",
        "\n",
        "import pandas as pd\n",
        "import polars as pl\n",
        "import glob\n",
        "\n",
        "#題材データをdfに読み込み(タイタニック号の乗客データ、テストの点数データ 等)\n",
        "def initialize1():\n",
        "    df = pl.read_csv('../input/titanic3.csv')\n",
        "    return df\n",
        "\n",
        "def initialize2():\n",
        "    df = pl.read_csv('../input/data1.csv')\n",
        "    return df\n",
        "\n",
        "def initialize5():\n",
        "    df = pl.read_csv('../input/data2.csv')\n",
        "    return df\n",
        "\n",
        "df = initialize1()\n",
        "df2 = initialize2()\n",
        "df3 = pl.read_csv('../input/data1_2.csv')\n",
        "df4 = pl.read_csv('../input/data1_3.csv')\n",
        "df5 = pl.read_csv('../input/data2.csv')\n",
        "\n",
        "#回答コードをansリストに格納\n",
        "path = sorted(glob.glob('../input/a_' + '*.txt'))\n",
        "\n",
        "ans = []\n",
        "\n",
        "for _ in range(len(path)):\n",
        "    with open(path[_], 'r',encoding='utf-8') as f:\n",
        "        ans.append(f.read())\n",
        "        \n",
        "print(ans[0])"
      ]
    },
    {
      "cell_type": "markdown",
      "metadata": {
        "id": "abDs65iUfZRz"
      },
      "source": [
        "# Pandas基礎 (1 - 14)"
      ]
    },
    {
      "cell_type": "code",
      "execution_count": null,
      "metadata": {
        "id": "Uhp2J1iTfZR0"
      },
      "outputs": [],
      "source": [
        "# 【1】\n",
        "# dfに読み込んだデータの最初の5行を表示\n",
        "#print(ans[1]) #解答表示\n",
        "df = initialize1() #初期化\n",
        "\n",
        "\n",
        "\n"
      ]
    },
    {
      "cell_type": "code",
      "execution_count": null,
      "metadata": {
        "id": "iPsTuOzwfZR1"
      },
      "outputs": [],
      "source": [
        "# 【2】\n",
        "# glimpseを用いてdfに読み込んだデータの最初の要素10個を表示\n",
        "#print(ans[2]) #解答表示\n",
        "df = initialize1() #初期化\n",
        "\n",
        "\n",
        "\n"
      ]
    },
    {
      "cell_type": "code",
      "execution_count": null,
      "metadata": {
        "id": "JQ0UQ6r4fZR2"
      },
      "outputs": [],
      "source": [
        "# 【3】\n",
        "# dfに読み込んだデータの最後の5行を表示\n",
        "#print(ans[3]) #解答表示\n",
        "df = initialize1() #初期化\n",
        "\n",
        "\n",
        "\n"
      ]
    },
    {
      "cell_type": "code",
      "execution_count": null,
      "metadata": {
        "id": "LvTWKor4fZR3"
      },
      "outputs": [],
      "source": [
        "# 【4】\n",
        "# dfのDataFrameサイズを確認\n",
        "#print(ans[4]) #解答表示\n",
        "df = initialize1() #初期化\n",
        "\n",
        "\n",
        "\n"
      ]
    },
    {
      "cell_type": "code",
      "execution_count": null,
      "metadata": {
        "id": "-KaXc1wcfZR8"
      },
      "outputs": [],
      "source": [
        "# 【5】\n",
        "# inputフォルダ内のdata1.csvファイルを\n",
        "# 読み込みdf2に格納して、最初の5行を表示\n",
        "#print(ans[5]) #解答表示\n",
        "df2 = initialize2() #初期化\n",
        "\n",
        "\n",
        "\n"
      ]
    },
    {
      "cell_type": "code",
      "execution_count": null,
      "metadata": {
        "id": "keFDyovTfZR9"
      },
      "outputs": [],
      "source": [
        "# 【6】\n",
        "# dfのfareの列で昇順に並び替えて表示\n",
        "#print(ans[6]) #解答表示\n",
        "df = initialize1() #初期化\n",
        "\n",
        "\n",
        "\n"
      ]
    },
    {
      "cell_type": "code",
      "execution_count": null,
      "metadata": {
        "id": "f0KtodxcfZR-"
      },
      "outputs": [],
      "source": [
        "# 【7】\n",
        "# df_copyにdfをコピーして、最初の5行を表示\n",
        "#print(ans[7]) #解答表示\n",
        "df = initialize1() #初期化\n",
        "\n",
        "\n",
        "\n"
      ]
    },
    {
      "cell_type": "code",
      "execution_count": null,
      "metadata": {
        "id": "8yC9gicofZSA"
      },
      "outputs": [],
      "source": [
        "# 【8】\n",
        "# ① dfの各列のデータ型を確認\n",
        "# ② dfのcabinの列のデータ型を確認\n",
        "#print(ans[8]) #解答表示\n",
        "df = initialize1() #初期化\n",
        "\n",
        "\n",
        "\n"
      ]
    },
    {
      "cell_type": "code",
      "execution_count": null,
      "metadata": {
        "id": "Fl6X4HZjfZSB"
      },
      "outputs": [],
      "source": [
        "# 【9】\n",
        "# ① dfのpclassの列のデータ型をschemaで確認\n",
        "# ② 数値型から文字列型に変換し、データ型をschemaで確認\n",
        "#print(ans[9]) #解答表示\n",
        "df = initialize1() #初期化\n",
        "\n",
        "\n",
        "\n"
      ]
    },
    {
      "cell_type": "code",
      "execution_count": null,
      "metadata": {
        "id": "fOvpGDGSfZSC"
      },
      "outputs": [],
      "source": [
        "# 【10】\n",
        "# dfのレコード数(行数)を確認\n",
        "#print(ans[10]) #解答表示\n",
        "df = initialize1() #初期化\n",
        "\n",
        "\n",
        "\n"
      ]
    },
    {
      "cell_type": "code",
      "execution_count": null,
      "metadata": {
        "id": "pyi3hnxqfZSD"
      },
      "outputs": [],
      "source": [
        "# 【11】\n",
        "# dfのレコード数(行数)、各列のデータ型、欠損値の有無を確認\n",
        "#print(ans[11]) #解答表示\n",
        "df = initialize1() #初期化\n",
        "\n",
        "\n",
        "\n"
      ]
    },
    {
      "cell_type": "code",
      "execution_count": null,
      "metadata": {
        "id": "yPKEHcbAfZSD"
      },
      "outputs": [],
      "source": [
        "# 【12】\n",
        "# dfのsex,cabinの列の要素を確認\n",
        "#print(ans[12]) #解答表示\n",
        "df = initialize1() #初期化\n",
        "\n",
        "\n",
        "\n"
      ]
    },
    {
      "cell_type": "code",
      "execution_count": null,
      "metadata": {
        "id": "VCQkPDCwfZSE"
      },
      "outputs": [],
      "source": [
        "# 【13】\n",
        "# dfの列名一覧を表示\n",
        "#print(ans[13]) #解答表示\n",
        "df = initialize1() #初期化\n",
        "\n",
        "\n",
        "\n"
      ]
    },
    {
      "cell_type": "code",
      "execution_count": null,
      "metadata": {
        "id": "DjQ-oIKMfZSF"
      },
      "outputs": [],
      "source": [
        "# 【14】\n",
        "# dfのpclassの列をndarray形式で表示\n",
        "#print(ans[14]) #解答表示\n",
        "df = initialize1() #初期化\n",
        "\n",
        "\n",
        "\n"
      ]
    },
    {
      "cell_type": "markdown",
      "metadata": {
        "id": "01c0h-nufZSF"
      },
      "source": [
        "# データ抽出 (15 - 36)"
      ]
    },
    {
      "cell_type": "code",
      "execution_count": null,
      "metadata": {
        "id": "TZd2tmZjfZSG"
      },
      "outputs": [],
      "source": [
        "# 【15】\n",
        "# selectを使ってdfのpclass列のみ表示\n",
        "#print(ans[15]) #解答表示\n",
        "df = initialize1() #初期化\n",
        "\n",
        "\n",
        "\n"
      ]
    },
    {
      "cell_type": "code",
      "execution_count": null,
      "metadata": {
        "id": "7E4vv_pifZSH"
      },
      "outputs": [],
      "source": [
        "# 【16】\n",
        "# get_columnを用いてdfのpclass列のみ表示\n",
        "#print(ans[16]) #解答表示\n",
        "df = initialize1() #初期化\n",
        "\n",
        "\n",
        "\n"
      ]
    },
    {
      "cell_type": "code",
      "execution_count": null,
      "metadata": {
        "id": "ngyCIPXqfZSI"
      },
      "outputs": [],
      "source": [
        "# 【17】\n",
        "# get_columnsを用いてdfのpclass列のみ表示\n",
        "#print(ans[17]) #解答表示\n",
        "df = initialize1() #初期化\n",
        "\n",
        "\n",
        "\n"
      ]
    },
    {
      "cell_type": "code",
      "execution_count": null,
      "metadata": {
        "id": "xDfTkoMzfZSJ"
      },
      "outputs": [],
      "source": [
        "# 【18】\n",
        "# selectを用いてdfのnameとsexの列のみ表示\n",
        "#print(ans[18]) #解答表示\n",
        "df = initialize1() #初期化\n",
        "\n",
        "\n",
        "\n"
      ]
    },
    {
      "cell_type": "code",
      "execution_count": null,
      "metadata": {
        "id": "4JRazOclfZSJ"
      },
      "outputs": [],
      "source": [
        "# 【19】\n",
        "# get_columnを用いてdfのnameとsexの列のみ表示\n",
        "#print(ans[19]) #解答表示\n",
        "df = initialize1() #初期化\n",
        "\n",
        "\n",
        "\n"
      ]
    },
    {
      "cell_type": "code",
      "execution_count": null,
      "metadata": {
        "id": "yL0khL4bfZSK"
      },
      "outputs": [],
      "source": [
        "# 【20】\n",
        "# dfのname列以外を表示\n",
        "#print(ans[20]) #解答表示\n",
        "df = initialize1() #初期化\n",
        "\n",
        "\n",
        "\n"
      ]
    },
    {
      "cell_type": "code",
      "execution_count": null,
      "metadata": {
        "id": "C1xeSmYVfZSK"
      },
      "outputs": [],
      "source": [
        "# 【21】\n",
        "# dfの4行目までを表示\n",
        "# なお、確認のためにwith_row_countで\n",
        "# インデックスを振る\n",
        "#print(ans[21]) #解答表示\n",
        "df = initialize1() #初期化\n",
        "\n",
        "\n",
        "\n"
      ]
    },
    {
      "cell_type": "code",
      "execution_count": null,
      "metadata": {
        "id": "rjIE4dKRfZSL"
      },
      "outputs": [],
      "source": [
        "# 【22】\n",
        "# dfの4行目から10行目までを表示\n",
        "# なお、確認のためにwith_row_countで\n",
        "# インデックスを振る\n",
        "#print(ans[22]) #解答表示\n",
        "df = initialize1() #初期化\n",
        "\n",
        "\n",
        "\n"
      ]
    },
    {
      "cell_type": "code",
      "execution_count": null,
      "metadata": {
        "id": "-CsJyzjAfZSL"
      },
      "outputs": [],
      "source": [
        "# 【23】\n",
        "# selectを使ってdf全体を表示\n",
        "#print(ans[23]) #解答表示\n",
        "df = initialize1() #初期化\n",
        "\n",
        "\n",
        "\n"
      ]
    },
    {
      "cell_type": "code",
      "execution_count": null,
      "metadata": {
        "id": "WqctG-0TfZSP"
      },
      "outputs": [],
      "source": [
        "# 【24】\n",
        "# dfのnameからcabinまでの列を5行目まで表示\n",
        "#print(ans[24]) #解答表示\n",
        "df = initialize1() #初期化\n",
        "\n",
        "\n",
        "\n"
      ]
    },
    {
      "cell_type": "code",
      "execution_count": null,
      "metadata": {
        "id": "Rb9suwf_fZSQ"
      },
      "outputs": [],
      "source": [
        "# 【25】\n",
        "# dfのname,age,sexの列のみ抽出しdf_copyに格納\n",
        "# その後outputフォルダにcsvファイルで出力\n",
        "# 出力ファイル名はsample.csv\n",
        "#print(ans[25]) #解答表示\n",
        "df = initialize1() #初期化\n",
        "\n",
        "\n",
        " \n"
      ]
    },
    {
      "cell_type": "code",
      "execution_count": null,
      "metadata": {
        "id": "GFkMmbWufZSR"
      },
      "outputs": [],
      "source": [
        "# 【26】\n",
        "# dfのage列の値が30以上のデータのみ抽出\n",
        "#print(ans[26]) #解答表示\n",
        "df = initialize1() #初期化\n",
        "\n",
        "\n",
        "\n"
      ]
    },
    {
      "cell_type": "code",
      "execution_count": null,
      "metadata": {
        "id": "5oSWgATafZSS"
      },
      "outputs": [],
      "source": [
        "# 【27】\n",
        "# dfのsex列がfemaleのデータのみ抽出\n",
        "#print(ans[27]) #解答表示\n",
        "df = initialize1() #初期化\n",
        "\n",
        "\n",
        "\n"
      ]
    },
    {
      "cell_type": "code",
      "execution_count": null,
      "metadata": {
        "id": "a-6HszvpfZST"
      },
      "outputs": [],
      "source": [
        "# 【28】\n",
        "# dfのsex列がfemaleでかつageが40以上のデータのみ抽出\n",
        "#print(ans[28]) #解答表示\n",
        "df = initialize1() #初期化\n",
        "\n",
        "\n",
        "\n"
      ]
    },
    {
      "cell_type": "code",
      "execution_count": null,
      "metadata": {
        "id": "UMbT3trkfZST"
      },
      "outputs": [],
      "source": [
        "# 【29】\n",
        "# dfのsex列がfemaleでかつageが40以上のデータを\n",
        "# 等号、不等号を使わずに抽出\n",
        "#print(ans[29]) #解答表示\n",
        "df = initialize1() #初期化\n",
        "\n",
        "\n",
        "\n"
      ]
    },
    {
      "cell_type": "code",
      "execution_count": null,
      "metadata": {
        "id": "FxvKSHCEfZSV"
      },
      "outputs": [],
      "source": [
        "# 【30】\n",
        "# dfのcabin列がnullでないデータを抽出\n",
        "#print(ans[30]) #解答表示\n",
        "df = initialize1() #初期化\n",
        "\n",
        "\n",
        "\n"
      ]
    },
    {
      "cell_type": "code",
      "execution_count": null,
      "metadata": {
        "id": "WUTJwquSfZSW"
      },
      "outputs": [],
      "source": [
        "# 【31】\n",
        "# dfのage列が10以上、40以下のデータを\n",
        "# 等号、不等号を使わずに抽出\n",
        "#print(ans[31]) #解答表示\n",
        "df = initialize1() #初期化\n",
        "\n",
        "\n"
      ]
    },
    {
      "cell_type": "code",
      "execution_count": null,
      "metadata": {
        "id": "xH0czw6ffZSW"
      },
      "outputs": [],
      "source": [
        "# 【32】\n",
        "# dfのname列に文字列「Mrs」が含まれるデータを表示\n",
        "#print(ans[32]) #解答表示\n",
        "df = initialize1() #初期化\n",
        "\n",
        "\n",
        "\n"
      ]
    },
    {
      "cell_type": "code",
      "execution_count": null,
      "metadata": {
        "id": "H2gko6-FfZSX"
      },
      "outputs": [],
      "source": [
        "# 【33】\n",
        "# dfの中で文字列型の列のみを表示\n",
        "#print(ans[33]) #解答表示\n",
        "df = initialize1() #初期化\n",
        "\n",
        "\n",
        "\n"
      ]
    },
    {
      "cell_type": "code",
      "execution_count": null,
      "metadata": {
        "id": "xIZBD_vSfZSX"
      },
      "outputs": [],
      "source": [
        "# 【34】\n",
        "# dfの各列の要素数の確認\n",
        "#print(ans[34]) #解答表示\n",
        "df = initialize1() #初期化\n",
        "\n",
        "\n",
        "\n"
      ]
    },
    {
      "cell_type": "code",
      "execution_count": null,
      "metadata": {
        "id": "lYVNQ9F-fZSY"
      },
      "outputs": [],
      "source": [
        "# 【35】\n",
        "# dfのembarked列の要素と出現回数の確認\n",
        "#print(ans[35]) #解答表示\n",
        "df = initialize1() #初期化\n",
        "\n",
        "\n",
        "\n"
      ]
    },
    {
      "cell_type": "code",
      "execution_count": null,
      "metadata": {
        "id": "zXcWO_CdfZSY",
        "scrolled": true
      },
      "outputs": [],
      "source": [
        "# 【36】\n",
        "# dfのすべての列の要素と出現回数の確認\n",
        "#print(ans[36]) #解答表示\n",
        "df = initialize1() #初期化\n",
        "\n",
        "\n",
        "\n"
      ]
    },
    {
      "cell_type": "markdown",
      "metadata": {
        "id": "aESo4oPpfZSZ"
      },
      "source": [
        "# データ加工 (37 - 64)"
      ]
    },
    {
      "cell_type": "code",
      "execution_count": null,
      "metadata": {
        "id": "O-pW3VDlfZSZ"
      },
      "outputs": [],
      "source": [
        "# 【37】\n",
        "# dfに with_row_count()でインデックスを振り\n",
        "# row_nr列が「3」のage列を30から40に変更し、\n",
        "# 先頭の5行を表示\n",
        "#print(ans[37]) #解答表示\n",
        "df = initialize1() #初期化\n",
        "\n",
        "\n",
        "\n"
      ]
    },
    {
      "cell_type": "code",
      "execution_count": null,
      "metadata": {
        "id": "7QcwFQIJfZSZ"
      },
      "outputs": [],
      "source": [
        "# 【38】\n",
        "# dfのsex列にてmale→0、femlae→1に\n",
        "# 変更し、先頭の5行を表示\n",
        "#print(ans[38]) #解答表示\n",
        "df = initialize1() #初期化\n",
        "\n",
        "\n",
        "\n"
      ]
    },
    {
      "cell_type": "code",
      "execution_count": null,
      "metadata": {
        "id": "GUcor6GEfZSi",
        "scrolled": true
      },
      "outputs": [],
      "source": [
        "# 【39】\n",
        "# dfのfare列に100を足して、\n",
        "# 先頭の5行を表示\n",
        "#print(ans[39]) #解答表示\n",
        "df = initialize1() #初期化\n",
        "\n",
        "\n",
        "\n"
      ]
    },
    {
      "cell_type": "code",
      "execution_count": null,
      "metadata": {
        "id": "5Rv7INU2fZSj"
      },
      "outputs": [],
      "source": [
        "# 【40】\n",
        "# dfのfare列に2を掛けて、\n",
        "# 先頭の5行を表示\n",
        "#print(ans[40]) #解答表示\n",
        "df = initialize1() #初期化\n",
        "\n",
        "\n",
        "\n"
      ]
    },
    {
      "cell_type": "code",
      "execution_count": null,
      "metadata": {
        "id": "9C2sZKVcfZSj"
      },
      "outputs": [],
      "source": [
        "# 【41】\n",
        "# dfのfare列に2を掛けて、\n",
        "# age列に3を足して\n",
        "# 先頭の5行を表示\n",
        "#print(ans[41]) #解答表示\n",
        "df = initialize1() #初期化\n",
        "\n",
        "\n",
        "\n"
      ]
    },
    {
      "cell_type": "code",
      "execution_count": null,
      "metadata": {
        "id": "9qc3TqU8fZSj"
      },
      "outputs": [],
      "source": [
        "# 【42】\n",
        "# applyを用いてdfのparch列に2を掛けて、\n",
        "# sibsp列に1を足して\n",
        "# 先頭の5行を表示\n",
        "#print(ans[42]) #解答表示\n",
        "df = initialize1() #初期化\n",
        "\n",
        "\n",
        "\n"
      ]
    },
    {
      "cell_type": "code",
      "execution_count": null,
      "metadata": {
        "id": "8VMEqZeufZSk"
      },
      "outputs": [],
      "source": [
        "# 【43】\n",
        "# dfのfare列を小数点以下で丸めて、先頭の5行を表示\n",
        "#print(ans[43]) #解答表示\n",
        "df = initialize1() #初期化\n",
        "\n",
        "\n",
        "\n"
      ]
    },
    {
      "cell_type": "code",
      "execution_count": null,
      "metadata": {
        "id": "KMsJF7azfZSl"
      },
      "outputs": [],
      "source": [
        "# 【44】\n",
        "# dfに列名「test」で値がすべて1の\n",
        "# カラムを追加し、先頭の5行を表示\n",
        "#print(ans[44]) #解答表示\n",
        "df = initialize1() #初期化\n",
        "\n",
        "\n",
        "\n"
      ]
    },
    {
      "cell_type": "code",
      "execution_count": null,
      "metadata": {
        "id": "jVLGzSiOfZSl"
      },
      "outputs": [],
      "source": [
        "# 【45】\n",
        "# dfに列名「test」で値がすべて1の\n",
        "# カラムと列名「test2」で値がすべてnullの\n",
        "# カラムを追加し、先頭の5行を表示\n",
        "#print(ans[45]) #解答表示\n",
        "df = initialize1() #初期化\n",
        "\n",
        "\n",
        "\n"
      ]
    },
    {
      "cell_type": "code",
      "execution_count": null,
      "metadata": {
        "id": "3QJge5_jfZSl"
      },
      "outputs": [],
      "source": [
        "# 【46】\n",
        "# dfにcabinとembarkedの列を「_」で\n",
        "# 結合した列を追加(列名は「test」)し、\n",
        "# 先頭の5行を表示\n",
        "#print(ans[46]) #解答表示\n",
        "df = initialize1() #初期化\n",
        "\n",
        "\n",
        "\n"
      ]
    },
    {
      "cell_type": "code",
      "execution_count": null,
      "metadata": {
        "id": "7uIBmEC2fZSm"
      },
      "outputs": [],
      "source": [
        "# 【47】\n",
        "# dfにageとembarkedの列を「_」で\n",
        "# 結合した列を追加(列名は「test」)し、\n",
        "# 先頭の5行を表示\n",
        "#print(ans[47]) #解答表示\n",
        "df = initialize1() #初期化\n",
        "\n",
        "\n",
        "\n"
      ]
    },
    {
      "cell_type": "code",
      "execution_count": null,
      "metadata": {
        "id": "3gDb0TpjfZSm"
      },
      "outputs": [],
      "source": [
        "# 【48】\n",
        "# dfにageとembarkedの列をconcat_strを用いて\n",
        "# 「_」で結合した列を追加(列名は「test」)し、\n",
        "# 先頭の5行を表示\n",
        "#print(ans[48]) #解答表示\n",
        "df = initialize1() #初期化\n",
        "\n",
        "\n",
        "\n"
      ]
    },
    {
      "cell_type": "code",
      "execution_count": null,
      "metadata": {
        "id": "_By6HHIbfZSn"
      },
      "outputs": [],
      "source": [
        "# 【49】\n",
        "# dfからbodyの列を削除し、最初の5行を表示\n",
        "#print(ans[49]) #解答表示\n",
        "df = initialize1() #初期化\n",
        "\n",
        "\n",
        "\n"
      ]
    },
    {
      "cell_type": "code",
      "execution_count": null,
      "metadata": {
        "id": "MMsAlJcrfZSn"
      },
      "outputs": [],
      "source": [
        "# 【50】\n",
        "# dfに with_row_count()でインデックスを振り\n",
        "# row_nr列が「3」の行を削除し、最初の5行を表示\n",
        "#print(ans[50]) #解答表示\n",
        "df = initialize1() #初期化\n",
        "\n",
        "\n",
        "\n"
      ]
    },
    {
      "cell_type": "code",
      "execution_count": null,
      "metadata": {
        "id": "Lcz-DwrbfZSn"
      },
      "outputs": [],
      "source": [
        "# 【51】\n",
        "# df2の列名を'name', 'class', 'Biology', 'Physics', 'Chemistry'に変更\n",
        "# df2の最初の5行を表示\n",
        "#print(ans[51]) #解答表示\n",
        "df2 = initialize2() #初期化\n",
        "\n",
        "\n",
        "\n"
      ]
    },
    {
      "cell_type": "code",
      "execution_count": null,
      "metadata": {
        "id": "3jmcFu6cfZSo"
      },
      "outputs": [],
      "source": [
        "# 【52】\n",
        "# df2の列名を'English'をBiology'に変更\n",
        "# df2の最初の5行を表示\n",
        "#print(ans[52]) #解答表示\n",
        "df2 = initialize2() #初期化\n",
        "\n",
        "\n",
        "\n"
      ]
    },
    {
      "cell_type": "code",
      "execution_count": null,
      "metadata": {
        "id": "q4TyU-ndfZSo"
      },
      "outputs": [],
      "source": [
        "# 【53】\n",
        "# dfのすべての列の欠損値数を確認\n",
        "#print(ans[53]) #解答表示\n",
        "df = initialize1() #初期化\n",
        "\n",
        "\n",
        "\n"
      ]
    },
    {
      "cell_type": "code",
      "execution_count": null,
      "metadata": {
        "id": "zEimZwmmfZSr"
      },
      "outputs": [],
      "source": [
        "# 【54】\n",
        "# dfのage列の欠損値に30を代入\n",
        "# その後、ageの欠損値数を確認\n",
        "#print(ans[54]) #解答表示\n",
        "df = initialize1() #初期化\n",
        "\n",
        "\n",
        "\n"
      ]
    },
    {
      "cell_type": "code",
      "execution_count": null,
      "metadata": {
        "id": "NVaJGMFKfZSr"
      },
      "outputs": [],
      "source": [
        "# 【55】\n",
        "# dfでひとつでも欠損値がある行を削除\n",
        "# その後、dfの欠損値数を確認\n",
        "#print(ans[55]) #解答表示\n",
        "df = initialize1() #初期化\n",
        "\n",
        "\n",
        "\n"
      ]
    },
    {
      "cell_type": "code",
      "execution_count": null,
      "metadata": {
        "id": "TpKmO7FPfZSs"
      },
      "outputs": [],
      "source": [
        "# 【56】\n",
        "# dfのsurvivedの列をndarray形式(配列)で表示\n",
        "#print(ans[56]) #解答表示\n",
        "df = initialize1() #初期化\n",
        "\n",
        "\n",
        "\n"
      ]
    },
    {
      "cell_type": "code",
      "execution_count": null,
      "metadata": {
        "id": "li3jagMkfZSv"
      },
      "outputs": [],
      "source": [
        "# 【57】\n",
        "# dfの行をシャッフルし、\n",
        "# dfの最初の5行を表示\n",
        "#print(ans[57]) #解答表示\n",
        "df = initialize1() #初期化\n",
        "\n",
        "\n",
        "\n"
      ]
    },
    {
      "cell_type": "code",
      "execution_count": null,
      "metadata": {
        "id": "DS1V3-p0fZSy"
      },
      "outputs": [],
      "source": [
        "# 【58】\n",
        "# ①df2の重複行数をカウント\n",
        "# ②df2の重複行を削除し、df2を表示\n",
        "#print(ans[58]) #解答表示\n",
        "df2 = initialize2() #初期化\n",
        "\n",
        "\n",
        "\n"
      ]
    },
    {
      "cell_type": "code",
      "execution_count": null,
      "metadata": {
        "id": "rIJTlCD6fZSz"
      },
      "outputs": [],
      "source": [
        "# 【59】\n",
        "# dfのnameの列をすべて大文字に変換し表示\n",
        "#print(ans[59]) #解答表示\n",
        "df = initialize1() #初期化\n",
        "\n",
        "\n",
        "\n"
      ]
    },
    {
      "cell_type": "code",
      "execution_count": null,
      "metadata": {
        "id": "fAXZflwAfZSz"
      },
      "outputs": [],
      "source": [
        "# 【60】\n",
        "# dfのnameの列をすべて小文字に変換し表示\n",
        "#print(ans[60]) #解答表示\n",
        "df = initialize1() #初期化\n",
        "\n",
        "\n",
        "\n"
      ]
    },
    {
      "cell_type": "code",
      "execution_count": null,
      "metadata": {
        "id": "N43yS0WsfZS1"
      },
      "outputs": [],
      "source": [
        "# 【61】\n",
        "# dfのsex列に含まれる「female」という単語を\n",
        "# 「Python」に置換。その後、1行目の\n",
        "# 「female」が「Python」に置き換わったことを確認\n",
        "#print(ans[61]) #解答表示\n",
        "df = initialize1() #初期化\n",
        "\n",
        "\n",
        "\n"
      ]
    },
    {
      "cell_type": "code",
      "execution_count": null,
      "metadata": {
        "id": "eXh5jJaFfZS2"
      },
      "outputs": [],
      "source": [
        "# 【62】\n",
        "# dfのname列1行目の「Allen, Miss. Elisabeth Walton」の\n",
        "# 「Elisabeth」を消去(import reをインポート)\n",
        "#print(ans[62]) #解答表示\n",
        "df = initialize1() #初期化\n",
        "\n",
        "\n",
        "\n"
      ]
    },
    {
      "cell_type": "code",
      "execution_count": null,
      "metadata": {
        "id": "JHBvnABYfZS3"
      },
      "outputs": [],
      "source": [
        "# 【63】\n",
        "# df5の都道府県列と市区町村列を空白がないように\n",
        "# 「_」で結合(新規列名は「test2」)し、先頭5行を表示\n",
        "# ※df5の「test」列は通常通り結合した場合の結果\n",
        "#print(ans[63]) #解答表示\n",
        "df5 = initialize5() #初期化\n",
        "\n",
        "\n",
        "\n"
      ]
    },
    {
      "cell_type": "code",
      "execution_count": null,
      "metadata": {
        "id": "VU3rMQkRfZS4"
      },
      "outputs": [],
      "source": [
        "# 【64】\n",
        "# df2の行と列を入れ替えて表示\n",
        "#print(ans[64]) #解答表示\n",
        "df2 = initialize2() #初期化\n",
        "\n",
        "\n",
        "\n"
      ]
    },
    {
      "cell_type": "markdown",
      "metadata": {
        "id": "5kGB47sLfZS4"
      },
      "source": [
        "# マージと連結(65 - 73)"
      ]
    },
    {
      "cell_type": "code",
      "execution_count": null,
      "metadata": {
        "id": "v7ztrn6vfZS4"
      },
      "outputs": [],
      "source": [
        "# 【65】\n",
        "# df2にdf3を左結合（結合キーはname）し、df2に格納\n",
        "#print(ans[65]) #解答表示\n",
        "df2 = initialize2() #初期化\n",
        "\n",
        "\n",
        "\n"
      ]
    },
    {
      "cell_type": "code",
      "execution_count": null,
      "metadata": {
        "id": "93FQkg31fZS5"
      },
      "outputs": [],
      "source": [
        "# 【66】\n",
        "# df2にdf3を右結合（結合キーはname）し、df2に格納\n",
        "#print(ans[66]) #解答表示\n",
        "df2 = initialize2() #初期化\n",
        "\n",
        "\n",
        "\n"
      ]
    },
    {
      "cell_type": "code",
      "execution_count": null,
      "metadata": {
        "id": "-01lRfqHfZS6"
      },
      "outputs": [],
      "source": [
        "# 【67】\n",
        "# df2にdf3を内部結合（結合キーはname）し、df2に格納\n",
        "#print(ans[67]) #解答表示\n",
        "df2 = initialize2() #初期化\n",
        "\n",
        "\n",
        "\n"
      ]
    },
    {
      "cell_type": "code",
      "execution_count": null,
      "metadata": {
        "id": "aty0ynvQfZS8"
      },
      "outputs": [],
      "source": [
        "# 【68】\n",
        "# df2にdf3を外部結合（結合キーはname）し、df2に格納\n",
        "#print(ans[68]) #解答表示\n",
        "df2 = initialize2() #初期化\n",
        "\n",
        "\n",
        "\n"
      ]
    },
    {
      "cell_type": "code",
      "execution_count": null,
      "metadata": {
        "id": "wtYLYL4NfZS8"
      },
      "outputs": [],
      "source": [
        "# 【69】\n",
        "# df2にdf3を、df3にのみ存在するデータのみを残してて結合\n",
        "#print(ans[69]) #解答表示\n",
        "df2 = initialize2() #初期化\n",
        "\n",
        "\n",
        "\n"
      ]
    },
    {
      "cell_type": "code",
      "execution_count": null,
      "metadata": {
        "id": "E7HCzCxifZS9"
      },
      "outputs": [],
      "source": [
        "# 【70】\n",
        "# df2にdf3を、df3に存在しないデータを残してて結合\n",
        "#print(ans[70]) #解答表示\n",
        "df2 = initialize2() #初期化\n",
        "\n",
        "\n",
        "\n"
      ]
    },
    {
      "cell_type": "code",
      "execution_count": null,
      "metadata": {
        "id": "0xiJUjSsfZS9"
      },
      "outputs": [],
      "source": [
        "# 【71】\n",
        "# df2とdf3のそれぞれの行を全通り組み合わせた\n",
        "# dataframeを作成\n",
        "#print(ans[71]) #解答表示\n",
        "df2 = initialize2() #初期化\n",
        "\n",
        "\n",
        "\n"
      ]
    },
    {
      "cell_type": "code",
      "execution_count": null,
      "metadata": {
        "id": "yQgXClzEfZS-"
      },
      "outputs": [],
      "source": [
        "# 【72】\n",
        "# df2とdf4を列方向に連結し、df2に格納\n",
        "#print(ans[72]) #解答表示\n",
        "df2 = initialize2() #初期化\n",
        "\n",
        "\n",
        "\n"
      ]
    },
    {
      "cell_type": "code",
      "execution_count": null,
      "metadata": {
        "id": "k8R42oqNfZTA"
      },
      "outputs": [],
      "source": [
        "# 【73】\n",
        "# df2とdf4を行方向に連結し、df2に格納\n",
        "#print(ans[73]) #解答表示\n",
        "df2 = initialize2() #初期化\n",
        "\n",
        "\n",
        "\n"
      ]
    },
    {
      "cell_type": "markdown",
      "metadata": {
        "id": "7KUJVLkDfZTB"
      },
      "source": [
        "# 統計 (74 - 87)"
      ]
    },
    {
      "cell_type": "code",
      "execution_count": null,
      "metadata": {
        "id": "pOpQAeFJfZTB"
      },
      "outputs": [],
      "source": [
        "# 【74】\n",
        "# dfのage列の平均値を確認\n",
        "#print(ans[74]) #解答表示\n",
        "df = initialize1() #初期化\n",
        "\n",
        "\n",
        "\n"
      ]
    },
    {
      "cell_type": "code",
      "execution_count": null,
      "metadata": {
        "id": "osCoj5CRfZTC"
      },
      "outputs": [],
      "source": [
        "# 【75】\n",
        "# dfのage列の中央値を確認\n",
        "#print(ans[75]) #解答表示\n",
        "df = initialize1() #初期化\n",
        "\n",
        "\n",
        "\n"
      ]
    },
    {
      "cell_type": "code",
      "execution_count": null,
      "metadata": {
        "id": "Bd_oBzozfZTC"
      },
      "outputs": [],
      "source": [
        "# 【76】\n",
        "# ①df2の生徒ごとの合計点（行方向の合計）\n",
        "# ②df2の科目ごとの点数の総和（列方向の合計）\n",
        "#print(ans[76]) #解答表示\n",
        "df2 = initialize2() #初期化\n",
        "\n",
        "\n",
        "\n"
      ]
    },
    {
      "cell_type": "code",
      "execution_count": null,
      "metadata": {
        "id": "HBrBOsoNfZTE"
      },
      "outputs": [],
      "source": [
        "# 【77】\n",
        "# df2のEnglishで得点の最大値\n",
        "#print(ans[77]) #解答表示\n",
        "df2 = initialize2() #初期化\n",
        "\n",
        "\n",
        "\n"
      ]
    },
    {
      "cell_type": "code",
      "execution_count": null,
      "metadata": {
        "id": "foOXs2-MfZTG"
      },
      "outputs": [],
      "source": [
        "# 【78】\n",
        "# df2のEnglishで得点の最小値\n",
        "#print(ans[78]) #解答表示\n",
        "df2 = initialize2() #初期化\n",
        "\n",
        "\n",
        "\n"
      ]
    },
    {
      "cell_type": "code",
      "execution_count": null,
      "metadata": {
        "id": "FHV8TqFVfZTH"
      },
      "outputs": [],
      "source": [
        "# 【79】\n",
        "# df2においてclassでグルーピングし、クラスごとの科目の\n",
        "# 最大値、最小値、平均値を求める(name列は削除しておく)\n",
        "#print(ans[79]) #解答表示\n",
        "df2 = initialize2() #初期化\n",
        "\n",
        "\n",
        "\n"
      ]
    },
    {
      "cell_type": "code",
      "execution_count": null,
      "metadata": {
        "id": "NGPniNbHfZTH"
      },
      "outputs": [],
      "source": [
        "# 【80】\n",
        "# df2においてclassでグルーピングし、aggを用いて\n",
        "# 各科目の平均、最大値、最小値を求める\n",
        "# なお、各科目の平均、最大値、最小値には\n",
        "# 「***_mean」のようにsuffixを振ること\n",
        "#print(ans[80]) #解答表示\n",
        "df2 = initialize2() #初期化\n",
        "\n",
        "\n",
        "\n"
      ]
    },
    {
      "cell_type": "code",
      "execution_count": null,
      "metadata": {
        "id": "YyrHLxc1fZTI"
      },
      "outputs": [],
      "source": [
        "# 【81】\n",
        "# dfの各列間の(Pearson)相関係数を確認\n",
        "#print(ans[81]) #解答表示\n",
        "df = initialize1() #初期化\n",
        "\n",
        "\n",
        "\n"
      ]
    },
    {
      "cell_type": "code",
      "execution_count": null,
      "metadata": {
        "id": "l4W8YdCsfZTI"
      },
      "outputs": [],
      "source": [
        "# 【82】\n",
        "# scikit-learnを用いてdf2のEnglish、Mathematics、History列を標準化する\n",
        "# (from sklearn.preprocessing import StandardScalerをインポート)\n",
        "#print(ans[82]) #解答表示\n",
        "df2 = initialize2() #初期化\n",
        "\n",
        "\n",
        "\n"
      ]
    },
    {
      "cell_type": "code",
      "execution_count": null,
      "metadata": {
        "id": "Cn9RrjKmfZTK"
      },
      "outputs": [],
      "source": [
        "# 【83】\n",
        "# scikit-learnを用いてdf2のEnglish列を標準化する\n",
        "# (from sklearn.preprocessing import StandardScalerをインポート)\n",
        "#print(ans[83]) #解答表示\n",
        "df2 = initialize2() #初期化\n",
        "\n",
        "\n",
        "\n"
      ]
    },
    {
      "cell_type": "code",
      "execution_count": null,
      "metadata": {
        "id": "FFZuNhlbfZTK"
      },
      "outputs": [],
      "source": [
        "# 【84】\n",
        "# scikit-learnを用いてdf2のEnglish、Mathematics、History列を\n",
        "# Min-Maxスケーリングする\n",
        "# (from sklearn.preprocessing import MinMaxScalerをインポート)\n",
        "#print(ans[84]) #解答表示\n",
        "df2 = initialize2() #初期化\n",
        "\n",
        "\n",
        "\n"
      ]
    },
    {
      "cell_type": "code",
      "execution_count": null,
      "metadata": {
        "id": "7DwwPu0-fZTL"
      },
      "outputs": [],
      "source": [
        "# 【85】\n",
        "# dfのfare列の最大値、最小値の行名を取得\n",
        "#print(ans[85]) #解答表示\n",
        "df = initialize1() #初期化\n",
        "\n",
        "\n",
        "\n"
      ]
    },
    {
      "cell_type": "code",
      "execution_count": null,
      "metadata": {
        "id": "VxYB97yjfZTL"
      },
      "outputs": [],
      "source": [
        "# 【86】\n",
        "# dfのfare列の0、25、50、75、100パーセンタイルを取得\n",
        "#print(ans[86]) #解答表示\n",
        "df = initialize1() #初期化\n",
        "\n",
        "\n",
        "\n"
      ]
    },
    {
      "cell_type": "code",
      "execution_count": null,
      "metadata": {
        "id": "COUKx6ZnfZTL"
      },
      "outputs": [],
      "source": [
        "# 【87】\n",
        "# ①dfのage列の最頻値を取得\n",
        "# ②value_counts()にてage列の要素数を\n",
        "# 確認し、①の結果の妥当性を確認\n",
        "#print(ans[87]) #解答表示\n",
        "df = initialize1() #初期化\n",
        "\n",
        "\n",
        "\n"
      ]
    },
    {
      "cell_type": "markdown",
      "metadata": {
        "id": "dKhbd0xgfZTM"
      },
      "source": [
        "# ラベリング (88 - 89)"
      ]
    },
    {
      "cell_type": "code",
      "execution_count": null,
      "metadata": {
        "id": "Ppu7gGZ4fZTM"
      },
      "outputs": [],
      "source": [
        "# 【88】\n",
        "# dfのsex列をラベルエンコーディングし、\n",
        "# dfの先頭5行を表示\n",
        "# (from sklearn.preprocessing import LabelEncoderをインポート)\n",
        "#print(ans[88]) #解答表示\n",
        "df = initialize1() #初期化\n",
        "\n",
        "\n",
        "\n"
      ]
    },
    {
      "cell_type": "code",
      "execution_count": null,
      "metadata": {
        "id": "64k1HLp-fZTO"
      },
      "outputs": [],
      "source": [
        "# 【89】\n",
        "# dfのsex列をOne-hotエンコーディングし、\n",
        "# dfの先頭5行を表示\n",
        "#print(ans[89]) #解答表示\n",
        "df = initialize1() #初期化\n",
        "\n",
        "\n",
        "\n"
      ]
    },
    {
      "cell_type": "markdown",
      "metadata": {
        "id": "TSE_VeAEfZTP"
      },
      "source": [
        "# タイタニック号の生存者予測 (90 - 100)  \n",
        "これまで触れてきたタイタニック号の乗客データを使用して、乗客の生存有無を  \n",
        "予測してみます。  \n",
        "  \n",
        "※90～100については順番通りにやらないと上手く動作しません"
      ]
    },
    {
      "cell_type": "code",
      "execution_count": null,
      "metadata": {
        "id": "myGZkR-DfZTP"
      },
      "outputs": [],
      "source": [
        "# 【90】ラベルエンコーディング\n",
        "# df_copyのsexとembarked列をラベルエンコーディング\n",
        "# (from sklearn.preprocessing import LabelEncoderをインポート)\n",
        "# (df_copyはdfをコピーしたもの)\n",
        "#print(ans[90]) #解答表示\n",
        "df = initialize1() #初期化\n",
        "df_copy =df.clone()\n",
        "\n",
        "\n",
        "\n"
      ]
    },
    {
      "cell_type": "code",
      "execution_count": null,
      "metadata": {
        "id": "mI6dyBqSfZTQ"
      },
      "outputs": [],
      "source": [
        "# 【91】欠損値確認\n",
        "# df_copyの欠損値を確認\n",
        "#print(ans[91]) #解答表示\n",
        "\n",
        "\n",
        "\n"
      ]
    },
    {
      "cell_type": "code",
      "execution_count": null,
      "metadata": {
        "id": "wOlN8Ao-fZTQ"
      },
      "outputs": [],
      "source": [
        "# 【92】欠損値補完\n",
        "# df_copyのage、fare列の欠損値を各列の平均値で補完\n",
        "#print(ans[92]) #解答表示\n",
        "\n",
        "\n",
        "\n"
      ]
    },
    {
      "cell_type": "code",
      "execution_count": null,
      "metadata": {
        "id": "G-3XOC3WfZTQ"
      },
      "outputs": [],
      "source": [
        "# 【93】不要列の削除\n",
        "# df_copyの中で機械学習で使用しない不要な行を削除\n",
        "# (name, ticket, cabin, boat, body, home.destを削除)\n",
        "#print(ans[93]) #解答表示\n",
        "\n",
        "\n",
        "\n"
      ]
    },
    {
      "cell_type": "code",
      "execution_count": null,
      "metadata": {
        "id": "Nawi6yyvfZTR"
      },
      "outputs": [],
      "source": [
        "# 【94】ndarray形式への変換\n",
        "# ①df_copyのpclass、age、sex、fare、embarkedの列を抽出し、ndarray形式に変換\n",
        "# ②df_copyのsurvivedの列を抽出し、ndarray形式に変換\n",
        "# (①をfeatures、②をtargetという変数にそれぞれ格納)\n",
        "#print(ans[94]) #解答表示\n",
        "\n",
        "\n",
        "\n"
      ]
    },
    {
      "cell_type": "code",
      "execution_count": null,
      "metadata": {
        "id": "G4RqcbgKfZTR"
      },
      "outputs": [],
      "source": [
        "# 【95】学習データとテストデータに分割\n",
        "# 【94】で作成したfeatrues、targetを学習データとテストデータに分割\n",
        "# (from sklearn.model_selection import  train_test_splitをインポート)\n",
        "# ※分割時のパラメータは次を指定 test_size=0.3 random_state=0\n",
        "#print(ans[95]) #解答表示\n",
        "\n",
        "\n",
        "\n"
      ]
    },
    {
      "cell_type": "code",
      "execution_count": null,
      "metadata": {
        "id": "GC1ca3cvfZTS"
      },
      "outputs": [],
      "source": [
        "# 【96】学習の実行\n",
        "# 学習データ(features、target)を用いランダムフォレストにて学習を実行\n",
        "# (from sklearn.ensemble import RandomForestClassifierをインポート)\n",
        "# ※パラメータは次を指定 n_estimators=100 random_state=0\n",
        "#print(ans[96]) #解答表示\n",
        "\n",
        "\n",
        "\n"
      ]
    },
    {
      "cell_type": "code",
      "execution_count": null,
      "metadata": {
        "id": "y074HIpHfZTS"
      },
      "outputs": [],
      "source": [
        "# 【97】予測の実行\n",
        "# test_Xデータの乗客の生存を予測\n",
        "#print(ans[97]) #解答表示\n",
        "\n",
        "\n",
        "\n"
      ]
    },
    {
      "cell_type": "code",
      "execution_count": null,
      "metadata": {
        "id": "SDcqb35xfZTT"
      },
      "outputs": [],
      "source": [
        "# 【98】予測精度の確認\n",
        "# 予測結果がtest_y(生存有無の答え)とどれぐらい\n",
        "# 整合していたかを確認(評価指標はaccuracy)\n",
        "# (from sklearn.metrics import accuracy_scoreをインポート)\n",
        "#print(ans[98]) #解答表示\n",
        "\n",
        "\n",
        "\n"
      ]
    },
    {
      "cell_type": "code",
      "execution_count": null,
      "metadata": {
        "id": "Lg6gN0hjfZTU"
      },
      "outputs": [],
      "source": [
        "# 【99】重要度の確認\n",
        "# 学習における各列(特徴量)の\n",
        "# 重要度を表示\n",
        "#print(ans[99]) #解答表示\n",
        "\n",
        "\n",
        "\n"
      ]
    },
    {
      "cell_type": "code",
      "execution_count": null,
      "metadata": {
        "id": "zrarHDIsfZTX"
      },
      "outputs": [],
      "source": [
        "# 【100】予測結果のcsv出力\n",
        "# test_Xの予測結果をcsvでoutputフォルダに出力(ファイル名は「submission.csv」)\n",
        "# (headerは不要)\n",
        "#print(ans[100]) #解答表示\n",
        "\n",
        "\n",
        "\n"
      ]
    },
    {
      "cell_type": "markdown",
      "metadata": {
        "id": "ho4wzvk0fZTY"
      },
      "source": [
        "# ノックお疲れ様でした"
      ]
    }
  ],
  "metadata": {
    "colab": {
      "include_colab_link": true,
      "provenance": []
    },
    "gpuClass": "standard",
    "kernelspec": {
      "display_name": "Python 3",
      "language": "python",
      "name": "python3"
    },
    "language_info": {
      "codemirror_mode": {
        "name": "ipython",
        "version": 3
      },
      "file_extension": ".py",
      "mimetype": "text/x-python",
      "name": "python",
      "nbconvert_exporter": "python",
      "pygments_lexer": "ipython3",
      "version": "3.7.6"
    }
  },
  "nbformat": 4,
  "nbformat_minor": 0
}
